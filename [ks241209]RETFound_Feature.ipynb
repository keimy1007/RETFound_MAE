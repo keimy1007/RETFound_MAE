{
 "cells": [
  {
   "cell_type": "code",
   "execution_count": 2,
   "id": "WDOFduGYyI5A",
   "metadata": {
    "colab": {
     "base_uri": "https://localhost:8080/"
    },
    "collapsed": true,
    "executionInfo": {
     "elapsed": 257,
     "status": "ok",
     "timestamp": 1733717539771,
     "user": {
      "displayName": "さのけい",
      "userId": "14549312270142177884"
     },
     "user_tz": -540
    },
    "id": "WDOFduGYyI5A",
    "outputId": "9c94d8b9-798c-46ce-c993-9de2c9875f14"
   },
   "outputs": [
    {
     "name": "stdout",
     "output_type": "stream",
     "text": [
      "c:\\Users\\tokai\\git\\retfound_mae\n"
     ]
    },
    {
     "data": {
      "text/plain": [
       "'c:\\\\Users\\\\tokai\\\\git\\\\retfound_mae'"
      ]
     },
     "execution_count": 2,
     "metadata": {},
     "output_type": "execute_result"
    }
   ],
   "source": [
    "%cd C:\\Users\\tokai\\git\\retfound_mae\n",
    "%pwd"
   ]
  },
  {
   "cell_type": "code",
   "execution_count": 3,
   "id": "AD-Is5XxFs6l",
   "metadata": {
    "executionInfo": {
     "elapsed": 988,
     "status": "ok",
     "timestamp": 1733717550398,
     "user": {
      "displayName": "さのけい",
      "userId": "14549312270142177884"
     },
     "user_tz": -540
    },
    "id": "AD-Is5XxFs6l"
   },
   "outputs": [],
   "source": [
    "!rm -rf /usr/local/lib/python3.*/site-packages/conda*\n",
    "!rm -rf /usr/local/etc/profile.d/conda.sh\n",
    "!rm -rf /usr/local/bin/conda\n",
    "!rm -rf /usr/local/bin/conda-env\n",
    "!rm -rf /usr/local/bin/activate\n",
    "!rm -rf /usr/local/bin/deactivate"
   ]
  },
  {
   "cell_type": "code",
   "execution_count": 4,
   "id": "ccB1GpVhIAXx",
   "metadata": {
    "colab": {
     "base_uri": "https://localhost:8080/"
    },
    "collapsed": true,
    "executionInfo": {
     "elapsed": 33408,
     "status": "ok",
     "timestamp": 1733717587279,
     "user": {
      "displayName": "さのけい",
      "userId": "14549312270142177884"
     },
     "user_tz": -540
    },
    "id": "ccB1GpVhIAXx",
    "outputId": "d4a54def-ef28-4664-83be-ae76dec52f98"
   },
   "outputs": [
    {
     "name": "stdout",
     "output_type": "stream",
     "text": [
      "--2024-12-09 04:12:33--  https://repo.anaconda.com/miniconda/Miniconda3-latest-Linux-x86_64.sh\n",
      "Resolving repo.anaconda.com (repo.anaconda.com)... 104.16.191.158, 104.16.32.241, 2606:4700::6810:bf9e, ...\n",
      "Connecting to repo.anaconda.com (repo.anaconda.com)|104.16.191.158|:443... connected.\n",
      "HTTP request sent, awaiting response... 200 OK\n",
      "Length: 148337011 (141M) [application/octet-stream]\n",
      "Saving to: ‘/root/miniconda.sh’\n",
      "\n",
      "/root/miniconda.sh  100%[===================>] 141.46M   249MB/s    in 0.6s    \n",
      "\n",
      "2024-12-09 04:12:34 (249 MB/s) - ‘/root/miniconda.sh’ saved [148337011/148337011]\n",
      "\n",
      "PREFIX=/usr/local\n",
      "Unpacking payload ...\n",
      "\n",
      "Installing base environment...\n",
      "\n",
      "Preparing transaction: ...working... done\n",
      "Executing transaction: ...working... done\n",
      "installation finished.\n",
      "WARNING:\n",
      "    You currently have a PYTHONPATH environment variable set. This may cause\n",
      "    unexpected behavior when running the Python interpreter in Miniconda3.\n",
      "    For best results, please verify that your PYTHONPATH only points to\n",
      "    directories of packages that are compatible with the Python interpreter\n",
      "    in Miniconda3: /usr/local\n",
      "no change     /usr/local/condabin/conda\n",
      "no change     /usr/local/bin/conda\n",
      "no change     /usr/local/bin/conda-env\n",
      "no change     /usr/local/bin/activate\n",
      "no change     /usr/local/bin/deactivate\n",
      "no change     /usr/local/etc/profile.d/conda.sh\n",
      "no change     /usr/local/etc/fish/conf.d/conda.fish\n",
      "no change     /usr/local/shell/condabin/Conda.psm1\n",
      "no change     /usr/local/shell/condabin/conda-hook.ps1\n",
      "no change     /usr/local/lib/python3.12/site-packages/xontrib/conda.xsh\n",
      "no change     /usr/local/etc/profile.d/conda.csh\n",
      "modified      /root/.bashrc\n",
      "\n",
      "==> For changes to take effect, close and re-open your current shell. <==\n",
      "\n",
      "Channels:\n",
      " - defaults\n",
      "Platform: linux-64\n",
      "Collecting package metadata (repodata.json): - \b\b\\ \b\b| \b\b/ \b\b- \b\b\\ \b\b| \b\b/ \b\b- \b\b\\ \b\bdone\n",
      "Solving environment: / \b\bdone\n",
      "\n",
      "## Package Plan ##\n",
      "\n",
      "  environment location: /usr/local/envs/retfound\n",
      "\n",
      "  added / updated specs:\n",
      "    - python=3.7.5\n",
      "\n",
      "\n",
      "The following packages will be downloaded:\n",
      "\n",
      "    package                    |            build\n",
      "    ---------------------------|-----------------\n",
      "    ca-certificates-2024.11.26 |       h06a4308_0         131 KB\n",
      "    certifi-2022.12.7          |   py37h06a4308_0         150 KB\n",
      "    libffi-3.2.1               |    hf484d3e_1007          48 KB\n",
      "    openssl-1.1.1w             |       h7f8727e_0         3.7 MB\n",
      "    pip-22.3.1                 |   py37h06a4308_0         2.7 MB\n",
      "    python-3.7.5               |       h0371630_0        32.2 MB\n",
      "    readline-7.0               |       h7b6447c_5         324 KB\n",
      "    setuptools-65.6.3          |   py37h06a4308_0         1.1 MB\n",
      "    sqlite-3.33.0              |       h62c20be_0         1.1 MB\n",
      "    wheel-0.38.4               |   py37h06a4308_0          63 KB\n",
      "    ------------------------------------------------------------\n",
      "                                           Total:        41.5 MB\n",
      "\n",
      "The following NEW packages will be INSTALLED:\n",
      "\n",
      "  _libgcc_mutex      pkgs/main/linux-64::_libgcc_mutex-0.1-main \n",
      "  _openmp_mutex      pkgs/main/linux-64::_openmp_mutex-5.1-1_gnu \n",
      "  ca-certificates    pkgs/main/linux-64::ca-certificates-2024.11.26-h06a4308_0 \n",
      "  certifi            pkgs/main/linux-64::certifi-2022.12.7-py37h06a4308_0 \n",
      "  libedit            pkgs/main/linux-64::libedit-3.1.20230828-h5eee18b_0 \n",
      "  libffi             pkgs/main/linux-64::libffi-3.2.1-hf484d3e_1007 \n",
      "  libgcc-ng          pkgs/main/linux-64::libgcc-ng-11.2.0-h1234567_1 \n",
      "  libgomp            pkgs/main/linux-64::libgomp-11.2.0-h1234567_1 \n",
      "  libstdcxx-ng       pkgs/main/linux-64::libstdcxx-ng-11.2.0-h1234567_1 \n",
      "  ncurses            pkgs/main/linux-64::ncurses-6.4-h6a678d5_0 \n",
      "  openssl            pkgs/main/linux-64::openssl-1.1.1w-h7f8727e_0 \n",
      "  pip                pkgs/main/linux-64::pip-22.3.1-py37h06a4308_0 \n",
      "  python             pkgs/main/linux-64::python-3.7.5-h0371630_0 \n",
      "  readline           pkgs/main/linux-64::readline-7.0-h7b6447c_5 \n",
      "  setuptools         pkgs/main/linux-64::setuptools-65.6.3-py37h06a4308_0 \n",
      "  sqlite             pkgs/main/linux-64::sqlite-3.33.0-h62c20be_0 \n",
      "  tk                 pkgs/main/linux-64::tk-8.6.14-h39e8969_0 \n",
      "  wheel              pkgs/main/linux-64::wheel-0.38.4-py37h06a4308_0 \n",
      "  xz                 pkgs/main/linux-64::xz-5.4.6-h5eee18b_1 \n",
      "  zlib               pkgs/main/linux-64::zlib-1.2.13-h5eee18b_1 \n",
      "\n",
      "\n",
      "\n",
      "Downloading and Extracting Packages:\n",
      "python-3.7.5         | 32.2 MB   | :   0% 0/1 [00:00<?, ?it/s]\n",
      "openssl-1.1.1w       | 3.7 MB    | :   0% 0/1 [00:00<?, ?it/s]\u001b[A\n",
      "\n",
      "pip-22.3.1           | 2.7 MB    | :   0% 0/1 [00:00<?, ?it/s]\u001b[A\u001b[A\n",
      "\n",
      "\n",
      "setuptools-65.6.3    | 1.1 MB    | :   0% 0/1 [00:00<?, ?it/s]\u001b[A\u001b[A\u001b[A\n",
      "\n",
      "\n",
      "\n",
      "sqlite-3.33.0        | 1.1 MB    | :   0% 0/1 [00:00<?, ?it/s]\u001b[A\u001b[A\u001b[A\u001b[A\n",
      "\n",
      "\n",
      "\n",
      "\n",
      "readline-7.0         | 324 KB    | :   0% 0/1 [00:00<?, ?it/s]\u001b[A\u001b[A\u001b[A\u001b[A\u001b[A\n",
      "\n",
      "\n",
      "\n",
      "\n",
      "\n",
      "certifi-2022.12.7    | 150 KB    | :   0% 0/1 [00:00<?, ?it/s]\u001b[A\u001b[A\u001b[A\u001b[A\u001b[A\u001b[A\n",
      "\n",
      "\n",
      "\n",
      "\n",
      "\n",
      "\n",
      "ca-certificates-2024 | 131 KB    | :   0% 0/1 [00:00<?, ?it/s]\u001b[A\u001b[A\u001b[A\u001b[A\u001b[A\u001b[A\u001b[A\n",
      "\n",
      "\n",
      "\n",
      "\n",
      "\n",
      "\n",
      "\n",
      "wheel-0.38.4         | 63 KB     | :   0% 0/1 [00:00<?, ?it/s]\u001b[A\u001b[A\u001b[A\u001b[A\u001b[A\u001b[A\u001b[A\u001b[A\n",
      "\n",
      "\n",
      "\n",
      "\n",
      "\n",
      "\n",
      "\n",
      "\n",
      "python-3.7.5         | 32.2 MB   | :   2% 0.02331616978473653/1 [00:00<00:04,  4.30s/it]\n",
      "openssl-1.1.1w       | 3.7 MB    | :  21% 0.20935969718491454/1 [00:00<00:00,  2.09it/s]\u001b[A\n",
      "\n",
      "pip-22.3.1           | 2.7 MB    | :   9% 0.09279275962744704/1 [00:00<00:00,  1.08s/it]\u001b[A\u001b[A\n",
      "\n",
      "\n",
      "\n",
      "sqlite-3.33.0        | 1.1 MB    | :  85% 0.8543648154448762/1 [00:00<00:00,  8.52it/s]\u001b[A\u001b[A\u001b[A\u001b[A\n",
      "\n",
      "\n",
      "setuptools-65.6.3    | 1.1 MB    | :   1% 0.01372742712122012/1 [00:00<00:08,  8.19s/it]\u001b[A\u001b[A\u001b[A\n",
      "\n",
      "\n",
      "\n",
      "\n",
      "python-3.7.5         | 32.2 MB   | :  16% 0.16369894203033772/1 [00:00<00:00,  1.09s/it]\n",
      "\n",
      "\n",
      "\n",
      "\n",
      "\n",
      "certifi-2022.12.7    | 150 KB    | :  11% 0.10679390158848107/1 [00:00<00:01,  1.83s/it]\u001b[A\u001b[A\u001b[A\u001b[A\u001b[A\u001b[A\n",
      "\n",
      "\n",
      "\n",
      "\n",
      "\n",
      "\n",
      "\n",
      "wheel-0.38.4         | 63 KB     | :  25% 0.25267963171450164/1 [00:00<00:00,  1.12it/s]\u001b[A\u001b[A\u001b[A\u001b[A\u001b[A\u001b[A\u001b[A\u001b[A\n",
      "\n",
      "\n",
      "\n",
      "\n",
      "\n",
      "\n",
      "ca-certificates-2024 | 131 KB    | :  12% 0.12209189680611651/1 [00:00<00:01,  1.89s/it]\u001b[A\u001b[A\u001b[A\u001b[A\u001b[A\u001b[A\u001b[A\n",
      "\n",
      "\n",
      "\n",
      "\n",
      "\n",
      "\n",
      "\n",
      "\n",
      "libffi-3.2.1         | 48 KB     | :  33% 0.3314183995468889/1 [00:00<00:00,  1.40it/s]\u001b[A\u001b[A\u001b[A\u001b[A\u001b[A\u001b[A\u001b[A\u001b[A\u001b[A\n",
      "\n",
      "\n",
      "\n",
      "\n",
      "readline-7.0         | 324 KB    | : 100% 1.0/1 [00:00<00:00,  4.53it/s]                \u001b[A\u001b[A\u001b[A\u001b[A\u001b[A\n",
      "\n",
      "\n",
      "\n",
      "\n",
      "readline-7.0         | 324 KB    | : 100% 1.0/1 [00:00<00:00,  4.53it/s]\u001b[A\u001b[A\u001b[A\u001b[A\u001b[A\n",
      "\n",
      "\n",
      "\n",
      "python-3.7.5         | 32.2 MB   | :  33% 0.3341984335812236/1 [00:00<00:00,  1.27it/s] \n",
      "\n",
      "\n",
      "\n",
      "\n",
      "\n",
      "certifi-2022.12.7    | 150 KB    | : 100% 1.0/1 [00:00<00:00,  3.87it/s]                \u001b[A\u001b[A\u001b[A\u001b[A\u001b[A\u001b[A\n",
      "\n",
      "\n",
      "\n",
      "\n",
      "\n",
      "python-3.7.5         | 32.2 MB   | :  77% 0.7699193564334875/1 [00:00<00:00,  1.84it/s]\n",
      "\n",
      "\n",
      "setuptools-65.6.3    | 1.1 MB    | : 100% 1.0/1 [00:00<00:00,  1.36it/s]                \u001b[A\u001b[A\u001b[A\n",
      "\n",
      "\n",
      "setuptools-65.6.3    | 1.1 MB    | : 100% 1.0/1 [00:00<00:00,  1.36it/s]\u001b[A\u001b[A\u001b[A\n",
      "openssl-1.1.1w       | 3.7 MB    | : 100% 1.0/1 [00:00<00:00,  1.01it/s]                \u001b[A\n",
      "openssl-1.1.1w       | 3.7 MB    | : 100% 1.0/1 [00:00<00:00,  1.01it/s]\u001b[A\n",
      "\n",
      "\n",
      "\n",
      "\n",
      "\n",
      "\n",
      "\n",
      "wheel-0.38.4         | 63 KB     | : 100% 1.0/1 [00:01<00:00,  1.01s/it]                \u001b[A\u001b[A\u001b[A\u001b[A\u001b[A\u001b[A\u001b[A\u001b[A\n",
      "\n",
      "\n",
      "\n",
      "\n",
      "\n",
      "\n",
      "\n",
      "wheel-0.38.4         | 63 KB     | : 100% 1.0/1 [00:01<00:00,  1.01s/it]\u001b[A\u001b[A\u001b[A\u001b[A\u001b[A\u001b[A\u001b[A\u001b[A\n",
      "\n",
      "\n",
      "\n",
      "\n",
      "\n",
      "\n",
      "ca-certificates-2024 | 131 KB    | : 100% 1.0/1 [00:01<00:00,  1.01it/s]                \u001b[A\u001b[A\u001b[A\u001b[A\u001b[A\u001b[A\u001b[A\n",
      "\n",
      "\n",
      "\n",
      "\n",
      "\n",
      "\n",
      "ca-certificates-2024 | 131 KB    | : 100% 1.0/1 [00:01<00:00,  1.01it/s]\u001b[A\u001b[A\u001b[A\u001b[A\u001b[A\u001b[A\u001b[A\n",
      "\n",
      "\n",
      "\n",
      "\n",
      "\n",
      "\n",
      "\n",
      "\n",
      "libffi-3.2.1         | 48 KB     | : 100% 1.0/1 [00:01<00:00,  1.09s/it]               \u001b[A\u001b[A\u001b[A\u001b[A\u001b[A\u001b[A\u001b[A\u001b[A\u001b[A\n",
      "\n",
      "\n",
      "\n",
      "\n",
      "\n",
      "\n",
      "\n",
      "\n",
      "libffi-3.2.1         | 48 KB     | : 100% 1.0/1 [00:01<00:00,  1.09s/it]\u001b[A\u001b[A\u001b[A\u001b[A\u001b[A\u001b[A\u001b[A\u001b[A\u001b[A\n",
      "\n",
      "pip-22.3.1           | 2.7 MB    | : 100% 1.0/1 [00:01<00:00,  1.19s/it]                \u001b[A\u001b[A\n",
      "\n",
      "                                                                        \n",
      "                                                                        \u001b[A\n",
      "\n",
      "                                                                        \u001b[A\u001b[A\n",
      "\n",
      "\n",
      "                                                                        \u001b[A\u001b[A\u001b[A\n",
      "\n",
      "\n",
      "\n",
      "                                                                        \u001b[A\u001b[A\u001b[A\u001b[A\n",
      "\n",
      "\n",
      "\n",
      "\n",
      "                                                                        \u001b[A\u001b[A\u001b[A\u001b[A\u001b[A\n",
      "\n",
      "\n",
      "\n",
      "\n",
      "\n",
      "                                                                        \u001b[A\u001b[A\u001b[A\u001b[A\u001b[A\u001b[A\n",
      "\n",
      "\n",
      "\n",
      "\n",
      "\n",
      "\n",
      "                                                                        \u001b[A\u001b[A\u001b[A\u001b[A\u001b[A\u001b[A\u001b[A\n",
      "\n",
      "\n",
      "\n",
      "\n",
      "\n",
      "\n",
      "\n",
      "                                                                        \u001b[A\u001b[A\u001b[A\u001b[A\u001b[A\u001b[A\u001b[A\u001b[A\n",
      "\n",
      "\n",
      "\n",
      "\n",
      "\n",
      "\n",
      "\n",
      "\n",
      "                                                                        \u001b[A\u001b[A\u001b[A\u001b[A\u001b[A\u001b[A\u001b[A\u001b[A\u001b[A\n",
      "Preparing transaction: \\ \b\b| \b\b/ \b\bdone\n",
      "Verifying transaction: \\ \b\b| \b\b/ \b\b- \b\b\\ \b\b| \b\b/ \b\b- \b\b\\ \b\b| \b\b/ \b\b- \b\bdone\n",
      "Executing transaction: | \b\b/ \b\b- \b\b\\ \b\b| \b\b/ \b\b- \b\bdone\n",
      "#\n",
      "# To activate this environment, use\n",
      "#\n",
      "#     $ conda activate retfound\n",
      "#\n",
      "# To deactivate an active environment, use\n",
      "#\n",
      "#     $ conda deactivate\n",
      "\n"
     ]
    }
   ],
   "source": [
    "# 2. Minicondaをインストール\n",
    "!wget -O ~/miniconda.sh https://repo.anaconda.com/miniconda/Miniconda3-latest-Linux-x86_64.sh\n",
    "!chmod +x ~/miniconda.sh\n",
    "!bash ~/miniconda.sh -b -f -p /usr/local\n",
    "\n",
    "# 3. condaを初期化\n",
    "import sys\n",
    "sys.path.append('/usr/local/lib/python3.7/site-packages')\n",
    "!conda init bash\n",
    "\n",
    "# 4. 新しい環境を作成\n",
    "!conda create -n retfound python=3.7.5 -y"
   ]
  },
  {
   "cell_type": "code",
   "execution_count": 8,
   "id": "X6hnvFCDIIDp",
   "metadata": {
    "colab": {
     "base_uri": "https://localhost:8080/"
    },
    "collapsed": true,
    "executionInfo": {
     "elapsed": 262623,
     "status": "ok",
     "timestamp": 1733718048627,
     "user": {
      "displayName": "さのけい",
      "userId": "14549312270142177884"
     },
     "user_tz": -540
    },
    "id": "X6hnvFCDIIDp",
    "outputId": "fb5b1ca3-7bdf-4275-dec5-c89fceaa29b5"
   },
   "outputs": [
    {
     "name": "stdout",
     "output_type": "stream",
     "text": [
      "Python 3.7.5\n",
      "Requirement already satisfied: ipykernel in /usr/local/envs/retfound/lib/python3.7/site-packages (6.16.2)\n",
      "Requirement already satisfied: jupyter-client>=6.1.12 in /usr/local/envs/retfound/lib/python3.7/site-packages (from ipykernel) (7.4.9)\n",
      "Requirement already satisfied: pyzmq>=17 in /usr/local/envs/retfound/lib/python3.7/site-packages (from ipykernel) (26.2.0)\n",
      "Requirement already satisfied: matplotlib-inline>=0.1 in /usr/local/envs/retfound/lib/python3.7/site-packages (from ipykernel) (0.1.6)\n",
      "Requirement already satisfied: traitlets>=5.1.0 in /usr/local/envs/retfound/lib/python3.7/site-packages (from ipykernel) (5.9.0)\n",
      "Requirement already satisfied: packaging in /usr/local/envs/retfound/lib/python3.7/site-packages (from ipykernel) (24.0)\n",
      "Requirement already satisfied: psutil in /usr/local/envs/retfound/lib/python3.7/site-packages (from ipykernel) (6.1.0)\n",
      "Requirement already satisfied: nest-asyncio in /usr/local/envs/retfound/lib/python3.7/site-packages (from ipykernel) (1.6.0)\n",
      "Requirement already satisfied: tornado>=6.1 in /usr/local/envs/retfound/lib/python3.7/site-packages (from ipykernel) (6.2)\n",
      "Requirement already satisfied: ipython>=7.23.1 in /usr/local/envs/retfound/lib/python3.7/site-packages (from ipykernel) (7.34.0)\n",
      "Requirement already satisfied: debugpy>=1.0 in /usr/local/envs/retfound/lib/python3.7/site-packages (from ipykernel) (1.7.0)\n",
      "Requirement already satisfied: jedi>=0.16 in /usr/local/envs/retfound/lib/python3.7/site-packages (from ipython>=7.23.1->ipykernel) (0.19.2)\n",
      "Requirement already satisfied: pickleshare in /usr/local/envs/retfound/lib/python3.7/site-packages (from ipython>=7.23.1->ipykernel) (0.7.5)\n",
      "Requirement already satisfied: pexpect>4.3 in /usr/local/envs/retfound/lib/python3.7/site-packages (from ipython>=7.23.1->ipykernel) (4.9.0)\n",
      "Requirement already satisfied: prompt-toolkit!=3.0.0,!=3.0.1,<3.1.0,>=2.0.0 in /usr/local/envs/retfound/lib/python3.7/site-packages (from ipython>=7.23.1->ipykernel) (3.0.48)\n",
      "Requirement already satisfied: decorator in /usr/local/envs/retfound/lib/python3.7/site-packages (from ipython>=7.23.1->ipykernel) (5.1.1)\n",
      "Requirement already satisfied: backcall in /usr/local/envs/retfound/lib/python3.7/site-packages (from ipython>=7.23.1->ipykernel) (0.2.0)\n",
      "Requirement already satisfied: setuptools>=18.5 in /usr/local/envs/retfound/lib/python3.7/site-packages (from ipython>=7.23.1->ipykernel) (65.6.3)\n",
      "Requirement already satisfied: pygments in /usr/local/envs/retfound/lib/python3.7/site-packages (from ipython>=7.23.1->ipykernel) (2.17.2)\n",
      "Requirement already satisfied: python-dateutil>=2.8.2 in /usr/local/envs/retfound/lib/python3.7/site-packages (from jupyter-client>=6.1.12->ipykernel) (2.9.0.post0)\n",
      "Requirement already satisfied: entrypoints in /usr/local/envs/retfound/lib/python3.7/site-packages (from jupyter-client>=6.1.12->ipykernel) (0.4)\n",
      "Requirement already satisfied: jupyter-core>=4.9.2 in /usr/local/envs/retfound/lib/python3.7/site-packages (from jupyter-client>=6.1.12->ipykernel) (4.12.0)\n",
      "Requirement already satisfied: parso<0.9.0,>=0.8.4 in /usr/local/envs/retfound/lib/python3.7/site-packages (from jedi>=0.16->ipython>=7.23.1->ipykernel) (0.8.4)\n",
      "Requirement already satisfied: ptyprocess>=0.5 in /usr/local/envs/retfound/lib/python3.7/site-packages (from pexpect>4.3->ipython>=7.23.1->ipykernel) (0.7.0)\n",
      "Requirement already satisfied: wcwidth in /usr/local/envs/retfound/lib/python3.7/site-packages (from prompt-toolkit!=3.0.0,!=3.0.1,<3.1.0,>=2.0.0->ipython>=7.23.1->ipykernel) (0.2.13)\n",
      "Requirement already satisfied: six>=1.5 in /usr/local/envs/retfound/lib/python3.7/site-packages (from python-dateutil>=2.8.2->jupyter-client>=6.1.12->ipykernel) (1.17.0)\n",
      "Looking in links: https://download.pytorch.org/whl/torch_stable.html\n",
      "Collecting torch==1.8.1+cu111\n",
      "  Using cached https://download.pytorch.org/whl/cu111/torch-1.8.1%2Bcu111-cp37-cp37m-linux_x86_64.whl (1982.2 MB)\n",
      "Collecting torchvision==0.9.1+cu111\n",
      "  Using cached https://download.pytorch.org/whl/cu111/torchvision-0.9.1%2Bcu111-cp37-cp37m-linux_x86_64.whl (17.6 MB)\n",
      "Collecting torchaudio==0.8.1\n",
      "  Using cached torchaudio-0.8.1-cp37-cp37m-manylinux1_x86_64.whl (1.9 MB)\n",
      "Collecting opencv-python==4.5.3.56\n",
      "  Using cached opencv_python-4.5.3.56-cp37-cp37m-manylinux2014_x86_64.whl (49.9 MB)\n",
      "Collecting pandas==0.25.3\n",
      "  Using cached pandas-0.25.3-cp37-cp37m-manylinux1_x86_64.whl (10.4 MB)\n",
      "Collecting Pillow==8.3.1\n",
      "  Using cached Pillow-8.3.1-cp37-cp37m-manylinux_2_5_x86_64.manylinux1_x86_64.whl (3.0 MB)\n",
      "Collecting protobuf==3.17.3\n",
      "  Using cached protobuf-3.17.3-cp37-cp37m-manylinux_2_5_x86_64.manylinux1_x86_64.whl (1.0 MB)\n",
      "Collecting pycm==3.2\n",
      "  Using cached pycm-3.2-py2.py3-none-any.whl (64 kB)\n",
      "Collecting pydicom==2.3.0\n",
      "  Using cached pydicom-2.3.0-py3-none-any.whl (2.0 MB)\n",
      "Collecting scikit-image==0.17.2\n",
      "  Using cached scikit_image-0.17.2-cp37-cp37m-manylinux1_x86_64.whl (12.5 MB)\n",
      "Collecting scikit-learn==0.24.2\n",
      "  Using cached scikit_learn-0.24.2-cp37-cp37m-manylinux2010_x86_64.whl (22.3 MB)\n",
      "Collecting scipy==1.5.4\n",
      "  Using cached scipy-1.5.4-cp37-cp37m-manylinux1_x86_64.whl (25.9 MB)\n",
      "Collecting tensorboard==2.6.0\n",
      "  Using cached tensorboard-2.6.0-py3-none-any.whl (5.6 MB)\n",
      "Collecting tensorboard-data-server==0.6.1\n",
      "  Using cached tensorboard_data_server-0.6.1-py3-none-manylinux2010_x86_64.whl (4.9 MB)\n",
      "Collecting tensorboard-plugin-wit==1.8.0\n",
      "  Using cached tensorboard_plugin_wit-1.8.0-py3-none-any.whl (781 kB)\n",
      "Collecting timm==0.3.2\n",
      "  Downloading timm-0.3.2-py3-none-any.whl (244 kB)\n",
      "     ━━━━━━━━━━━━━━━━━━━━━━━━━━━━━━━━━━━━━━━━ 244.2/244.2 kB 7.3 MB/s eta 0:00:00\n",
      "Collecting tqdm==4.62.1\n",
      "  Downloading tqdm-4.62.1-py2.py3-none-any.whl (76 kB)\n",
      "     ━━━━━━━━━━━━━━━━━━━━━━━━━━━━━━━━━━━━━━━━ 76.2/76.2 kB 10.7 MB/s eta 0:00:00\n",
      "Collecting numpy\n",
      "  Downloading numpy-1.21.6-cp37-cp37m-manylinux_2_12_x86_64.manylinux2010_x86_64.whl (15.7 MB)\n",
      "     ━━━━━━━━━━━━━━━━━━━━━━━━━━━━━━━━━━━━━━━━ 15.7/15.7 MB 58.6 MB/s eta 0:00:00\n",
      "Collecting typing-extensions\n",
      "  Downloading https://download.pytorch.org/whl/typing_extensions-4.9.0-py3-none-any.whl (32 kB)\n",
      "Requirement already satisfied: python-dateutil>=2.6.1 in /usr/local/envs/retfound/lib/python3.7/site-packages (from pandas==0.25.3->-r requirement.txt (line 6)) (2.9.0.post0)\n",
      "Collecting pytz>=2017.2\n",
      "  Downloading pytz-2024.2-py2.py3-none-any.whl (508 kB)\n",
      "     ━━━━━━━━━━━━━━━━━━━━━━━━━━━━━━━━━━━━━━━━ 508.0/508.0 kB 47.1 MB/s eta 0:00:00\n",
      "Requirement already satisfied: six>=1.9 in /usr/local/envs/retfound/lib/python3.7/site-packages (from protobuf==3.17.3->-r requirement.txt (line 8)) (1.17.0)\n",
      "Collecting art>=1.8\n",
      "  Downloading art-6.4-py3-none-any.whl (608 kB)\n",
      "     ━━━━━━━━━━━━━━━━━━━━━━━━━━━━━━━━━━━━━━━━ 608.6/608.6 kB 51.1 MB/s eta 0:00:00\n",
      "Collecting imageio>=2.3.0\n",
      "  Downloading imageio-2.31.2-py3-none-any.whl (313 kB)\n",
      "     ━━━━━━━━━━━━━━━━━━━━━━━━━━━━━━━━━━━━━━━━ 313.2/313.2 kB 35.7 MB/s eta 0:00:00\n",
      "Collecting networkx>=2.0\n",
      "  Downloading https://download.pytorch.org/whl/networkx-3.2.1-py3-none-any.whl (1.6 MB)\n",
      "     ━━━━━━━━━━━━━━━━━━━━━━━━━━━━━━━━━━━━━━━━ 1.6/1.6 MB 39.8 MB/s eta 0:00:00\n",
      "Collecting tifffile>=2019.7.26\n",
      "  Downloading tifffile-2021.11.2-py3-none-any.whl (178 kB)\n",
      "     ━━━━━━━━━━━━━━━━━━━━━━━━━━━━━━━━━━━━━━━━ 178.9/178.9 kB 20.3 MB/s eta 0:00:00\n",
      "Collecting matplotlib!=3.0.0,>=2.0.0\n",
      "  Downloading matplotlib-3.5.3-cp37-cp37m-manylinux_2_5_x86_64.manylinux1_x86_64.whl (11.2 MB)\n",
      "     ━━━━━━━━━━━━━━━━━━━━━━━━━━━━━━━━━━━━━━━━ 11.2/11.2 MB 66.4 MB/s eta 0:00:00\n",
      "Collecting PyWavelets>=1.1.1\n",
      "  Downloading PyWavelets-1.3.0-cp37-cp37m-manylinux_2_5_x86_64.manylinux1_x86_64.manylinux_2_12_x86_64.manylinux2010_x86_64.whl (6.4 MB)\n",
      "     ━━━━━━━━━━━━━━━━━━━━━━━━━━━━━━━━━━━━━━━━ 6.4/6.4 MB 74.6 MB/s eta 0:00:00\n",
      "Collecting threadpoolctl>=2.0.0\n",
      "  Downloading threadpoolctl-3.1.0-py3-none-any.whl (14 kB)\n",
      "Collecting joblib>=0.11\n",
      "  Downloading joblib-1.3.2-py3-none-any.whl (302 kB)\n",
      "     ━━━━━━━━━━━━━━━━━━━━━━━━━━━━━━━━━━━━━━━━ 302.2/302.2 kB 26.0 MB/s eta 0:00:00\n",
      "Collecting requests<3,>=2.21.0\n",
      "  Downloading requests-2.31.0-py3-none-any.whl (62 kB)\n",
      "     ━━━━━━━━━━━━━━━━━━━━━━━━━━━━━━━━━━━━━━━━ 62.6/62.6 kB 7.4 MB/s eta 0:00:00\n",
      "Requirement already satisfied: wheel>=0.26 in /usr/local/envs/retfound/lib/python3.7/site-packages (from tensorboard==2.6.0->-r requirement.txt (line 14)) (0.38.4)\n",
      "Collecting werkzeug>=0.11.15\n",
      "  Downloading Werkzeug-2.2.3-py3-none-any.whl (233 kB)\n",
      "     ━━━━━━━━━━━━━━━━━━━━━━━━━━━━━━━━━━━━━━━━ 233.6/233.6 kB 23.7 MB/s eta 0:00:00\n",
      "Collecting absl-py>=0.4\n",
      "  Downloading absl_py-2.1.0-py3-none-any.whl (133 kB)\n",
      "     ━━━━━━━━━━━━━━━━━━━━━━━━━━━━━━━━━━━━━━━━ 133.7/133.7 kB 16.0 MB/s eta 0:00:00\n",
      "Requirement already satisfied: setuptools>=41.0.0 in /usr/local/envs/retfound/lib/python3.7/site-packages (from tensorboard==2.6.0->-r requirement.txt (line 14)) (65.6.3)\n",
      "Collecting markdown>=2.6.8\n",
      "  Downloading Markdown-3.4.4-py3-none-any.whl (94 kB)\n",
      "     ━━━━━━━━━━━━━━━━━━━━━━━━━━━━━━━━━━━━━━━━ 94.2/94.2 kB 12.9 MB/s eta 0:00:00\n",
      "Collecting grpcio>=1.24.3\n",
      "  Downloading grpcio-1.62.3-cp37-cp37m-manylinux_2_17_x86_64.manylinux2014_x86_64.whl (5.6 MB)\n",
      "     ━━━━━━━━━━━━━━━━━━━━━━━━━━━━━━━━━━━━━━━━ 5.6/5.6 MB 92.5 MB/s eta 0:00:00\n",
      "Collecting google-auth-oauthlib<0.5,>=0.4.1\n",
      "  Downloading google_auth_oauthlib-0.4.6-py2.py3-none-any.whl (18 kB)\n",
      "Collecting google-auth<2,>=1.6.3\n",
      "  Downloading google_auth-1.35.0-py2.py3-none-any.whl (152 kB)\n",
      "     ━━━━━━━━━━━━━━━━━━━━━━━━━━━━━━━━━━━━━━━━ 152.9/152.9 kB 12.4 MB/s eta 0:00:00\n",
      "Collecting rsa<5,>=3.1.4\n",
      "  Downloading rsa-4.9-py3-none-any.whl (34 kB)\n",
      "Collecting pyasn1-modules>=0.2.1\n",
      "  Downloading pyasn1_modules-0.3.0-py2.py3-none-any.whl (181 kB)\n",
      "     ━━━━━━━━━━━━━━━━━━━━━━━━━━━━━━━━━━━━━━━━ 181.3/181.3 kB 20.5 MB/s eta 0:00:00\n",
      "Collecting cachetools<5.0,>=2.0.0\n",
      "  Downloading cachetools-4.2.4-py3-none-any.whl (10 kB)\n",
      "Collecting requests-oauthlib>=0.7.0\n",
      "  Downloading requests_oauthlib-2.0.0-py2.py3-none-any.whl (24 kB)\n",
      "Collecting imageio>=2.3.0\n",
      "  Downloading imageio-2.31.1-py3-none-any.whl (313 kB)\n",
      "     ━━━━━━━━━━━━━━━━━━━━━━━━━━━━━━━━━━━━━━━━ 313.2/313.2 kB 26.5 MB/s eta 0:00:00\n",
      "  Downloading imageio-2.31.0-py3-none-any.whl (313 kB)\n",
      "     ━━━━━━━━━━━━━━━━━━━━━━━━━━━━━━━━━━━━━━━━ 313.2/313.2 kB 32.4 MB/s eta 0:00:00\n",
      "  Downloading imageio-2.30.0-py3-none-any.whl (312 kB)\n",
      "     ━━━━━━━━━━━━━━━━━━━━━━━━━━━━━━━━━━━━━━━━ 312.7/312.7 kB 31.7 MB/s eta 0:00:00\n",
      "  Downloading imageio-2.29.0-py3-none-any.whl (3.4 MB)\n",
      "     ━━━━━━━━━━━━━━━━━━━━━━━━━━━━━━━━━━━━━━━━ 3.4/3.4 MB 45.5 MB/s eta 0:00:00\n",
      "  Downloading imageio-2.28.1-py3-none-any.whl (3.4 MB)\n",
      "     ━━━━━━━━━━━━━━━━━━━━━━━━━━━━━━━━━━━━━━━━ 3.4/3.4 MB 53.7 MB/s eta 0:00:00\n",
      "  Downloading imageio-2.28.0-py3-none-any.whl (3.4 MB)\n",
      "     ━━━━━━━━━━━━━━━━━━━━━━━━━━━━━━━━━━━━━━━━ 3.4/3.4 MB 57.2 MB/s eta 0:00:00\n",
      "  Downloading imageio-2.27.0-py3-none-any.whl (3.4 MB)\n",
      "     ━━━━━━━━━━━━━━━━━━━━━━━━━━━━━━━━━━━━━━━━ 3.4/3.4 MB 70.0 MB/s eta 0:00:00\n",
      "  Downloading imageio-2.26.1-py3-none-any.whl (3.4 MB)\n",
      "     ━━━━━━━━━━━━━━━━━━━━━━━━━━━━━━━━━━━━━━━━ 3.4/3.4 MB 65.1 MB/s eta 0:00:00\n",
      "  Downloading imageio-2.26.0-py3-none-any.whl (3.4 MB)\n",
      "     ━━━━━━━━━━━━━━━━━━━━━━━━━━━━━━━━━━━━━━━━ 3.4/3.4 MB 47.7 MB/s eta 0:00:00\n",
      "  Downloading imageio-2.25.1-py3-none-any.whl (3.4 MB)\n",
      "     ━━━━━━━━━━━━━━━━━━━━━━━━━━━━━━━━━━━━━━━━ 3.4/3.4 MB 56.6 MB/s eta 0:00:00\n",
      "  Downloading imageio-2.25.0-py3-none-any.whl (3.4 MB)\n",
      "     ━━━━━━━━━━━━━━━━━━━━━━━━━━━━━━━━━━━━━━━━ 3.4/3.4 MB 62.5 MB/s eta 0:00:00\n",
      "  Downloading imageio-2.24.0-py3-none-any.whl (3.4 MB)\n",
      "     ━━━━━━━━━━━━━━━━━━━━━━━━━━━━━━━━━━━━━━━━ 3.4/3.4 MB 59.7 MB/s eta 0:00:00\n",
      "  Downloading imageio-2.23.0-py3-none-any.whl (3.4 MB)\n",
      "     ━━━━━━━━━━━━━━━━━━━━━━━━━━━━━━━━━━━━━━━━ 3.4/3.4 MB 82.4 MB/s eta 0:00:00\n",
      "  Downloading imageio-2.22.4-py3-none-any.whl (3.4 MB)\n",
      "     ━━━━━━━━━━━━━━━━━━━━━━━━━━━━━━━━━━━━━━━━ 3.4/3.4 MB 53.4 MB/s eta 0:00:00\n",
      "  Downloading imageio-2.22.3-py3-none-any.whl (3.4 MB)\n",
      "     ━━━━━━━━━━━━━━━━━━━━━━━━━━━━━━━━━━━━━━━━ 3.4/3.4 MB 55.1 MB/s eta 0:00:00\n",
      "  Downloading imageio-2.22.2-py3-none-any.whl (3.4 MB)\n",
      "     ━━━━━━━━━━━━━━━━━━━━━━━━━━━━━━━━━━━━━━━━ 3.4/3.4 MB 47.8 MB/s eta 0:00:00\n",
      "  Downloading imageio-2.22.1-py3-none-any.whl (3.4 MB)\n",
      "     ━━━━━━━━━━━━━━━━━━━━━━━━━━━━━━━━━━━━━━━━ 3.4/3.4 MB 67.1 MB/s eta 0:00:00\n",
      "  Downloading imageio-2.22.0-py3-none-any.whl (3.4 MB)\n",
      "     ━━━━━━━━━━━━━━━━━━━━━━━━━━━━━━━━━━━━━━━━ 3.4/3.4 MB 84.9 MB/s eta 0:00:00\n",
      "  Downloading imageio-2.21.3-py3-none-any.whl (3.4 MB)\n",
      "     ━━━━━━━━━━━━━━━━━━━━━━━━━━━━━━━━━━━━━━━━ 3.4/3.4 MB 33.2 MB/s eta 0:00:00\n",
      "  Downloading imageio-2.21.2-py3-none-any.whl (3.4 MB)\n",
      "     ━━━━━━━━━━━━━━━━━━━━━━━━━━━━━━━━━━━━━━━━ 3.4/3.4 MB 80.4 MB/s eta 0:00:00\n",
      "  Downloading imageio-2.21.1-py3-none-any.whl (3.4 MB)\n",
      "     ━━━━━━━━━━━━━━━━━━━━━━━━━━━━━━━━━━━━━━━━ 3.4/3.4 MB 74.8 MB/s eta 0:00:00\n",
      "  Downloading imageio-2.21.0-py3-none-any.whl (3.4 MB)\n",
      "     ━━━━━━━━━━━━━━━━━━━━━━━━━━━━━━━━━━━━━━━━ 3.4/3.4 MB 57.9 MB/s eta 0:00:00\n",
      "  Downloading imageio-2.20.0-py3-none-any.whl (3.4 MB)\n",
      "     ━━━━━━━━━━━━━━━━━━━━━━━━━━━━━━━━━━━━━━━━ 3.4/3.4 MB 85.2 MB/s eta 0:00:00\n",
      "  Downloading imageio-2.19.5-py3-none-any.whl (3.4 MB)\n",
      "     ━━━━━━━━━━━━━━━━━━━━━━━━━━━━━━━━━━━━━━━━ 3.4/3.4 MB 90.0 MB/s eta 0:00:00\n",
      "  Downloading imageio-2.19.3-py3-none-any.whl (3.4 MB)\n",
      "     ━━━━━━━━━━━━━━━━━━━━━━━━━━━━━━━━━━━━━━━━ 3.4/3.4 MB 40.8 MB/s eta 0:00:00\n",
      "  Downloading imageio-2.19.2-py3-none-any.whl (3.4 MB)\n",
      "     ━━━━━━━━━━━━━━━━━━━━━━━━━━━━━━━━━━━━━━━━ 3.4/3.4 MB 10.9 MB/s eta 0:00:00\n",
      "  Downloading imageio-2.19.1-py3-none-any.whl (3.4 MB)\n",
      "     ━━━━━━━━━━━━━━━━━━━━━━━━━━━━━━━━━━━━━━━━ 3.4/3.4 MB 94.3 MB/s eta 0:00:00\n",
      "  Downloading imageio-2.19.0-py3-none-any.whl (3.4 MB)\n",
      "     ━━━━━━━━━━━━━━━━━━━━━━━━━━━━━━━━━━━━━━━━ 3.4/3.4 MB 58.8 MB/s eta 0:00:00\n",
      "  Downloading imageio-2.18.0-py3-none-any.whl (3.4 MB)\n",
      "     ━━━━━━━━━━━━━━━━━━━━━━━━━━━━━━━━━━━━━━━━ 3.4/3.4 MB 95.1 MB/s eta 0:00:00\n",
      "  Downloading imageio-2.17.0-py3-none-any.whl (3.4 MB)\n",
      "     ━━━━━━━━━━━━━━━━━━━━━━━━━━━━━━━━━━━━━━━━ 3.4/3.4 MB 52.8 MB/s eta 0:00:00\n",
      "  Downloading imageio-2.16.2-py3-none-any.whl (3.3 MB)\n",
      "     ━━━━━━━━━━━━━━━━━━━━━━━━━━━━━━━━━━━━━━━━ 3.3/3.3 MB 61.6 MB/s eta 0:00:00\n",
      "  Downloading imageio-2.16.1-py3-none-any.whl (3.3 MB)\n",
      "     ━━━━━━━━━━━━━━━━━━━━━━━━━━━━━━━━━━━━━━━━ 3.3/3.3 MB 89.7 MB/s eta 0:00:00\n",
      "  Downloading imageio-2.15.0-py3-none-any.whl (3.3 MB)\n",
      "     ━━━━━━━━━━━━━━━━━━━━━━━━━━━━━━━━━━━━━━━━ 3.3/3.3 MB 63.7 MB/s eta 0:00:00\n",
      "  Downloading imageio-2.14.1-py3-none-any.whl (3.3 MB)\n",
      "     ━━━━━━━━━━━━━━━━━━━━━━━━━━━━━━━━━━━━━━━━ 3.3/3.3 MB 89.6 MB/s eta 0:00:00\n",
      "  Downloading imageio-2.14.0-py3-none-any.whl (3.3 MB)\n",
      "     ━━━━━━━━━━━━━━━━━━━━━━━━━━━━━━━━━━━━━━━━ 3.3/3.3 MB 55.5 MB/s eta 0:00:00\n",
      "  Downloading imageio-2.13.5-py3-none-any.whl (3.3 MB)\n",
      "     ━━━━━━━━━━━━━━━━━━━━━━━━━━━━━━━━━━━━━━━━ 3.3/3.3 MB 72.9 MB/s eta 0:00:00\n",
      "  Downloading imageio-2.13.4-py3-none-any.whl (3.3 MB)\n",
      "     ━━━━━━━━━━━━━━━━━━━━━━━━━━━━━━━━━━━━━━━━ 3.3/3.3 MB 72.7 MB/s eta 0:00:00\n",
      "  Downloading imageio-2.13.3-py3-none-any.whl (3.3 MB)\n",
      "     ━━━━━━━━━━━━━━━━━━━━━━━━━━━━━━━━━━━━━━━━ 3.3/3.3 MB 26.5 MB/s eta 0:00:00\n",
      "  Downloading imageio-2.13.2-py3-none-any.whl (3.3 MB)\n",
      "     ━━━━━━━━━━━━━━━━━━━━━━━━━━━━━━━━━━━━━━━━ 3.3/3.3 MB 54.7 MB/s eta 0:00:00\n",
      "  Downloading imageio-2.13.1-py3-none-any.whl (3.3 MB)\n",
      "     ━━━━━━━━━━━━━━━━━━━━━━━━━━━━━━━━━━━━━━━━ 3.3/3.3 MB 87.7 MB/s eta 0:00:00\n",
      "  Downloading imageio-2.13.0-py3-none-any.whl (3.3 MB)\n",
      "     ━━━━━━━━━━━━━━━━━━━━━━━━━━━━━━━━━━━━━━━━ 3.3/3.3 MB 87.9 MB/s eta 0:00:00\n",
      "  Downloading imageio-2.12.0-py3-none-any.whl (3.3 MB)\n",
      "     ━━━━━━━━━━━━━━━━━━━━━━━━━━━━━━━━━━━━━━━━ 3.3/3.3 MB 29.6 MB/s eta 0:00:00\n",
      "  Downloading imageio-2.11.1-py3-none-any.whl (3.3 MB)\n",
      "     ━━━━━━━━━━━━━━━━━━━━━━━━━━━━━━━━━━━━━━━━ 3.3/3.3 MB 91.9 MB/s eta 0:00:00\n",
      "  Downloading imageio-2.11.0-py3-none-any.whl (3.3 MB)\n",
      "     ━━━━━━━━━━━━━━━━━━━━━━━━━━━━━━━━━━━━━━━━ 3.3/3.3 MB 22.5 MB/s eta 0:00:00\n",
      "  Downloading imageio-2.10.5-py3-none-any.whl (3.3 MB)\n",
      "     ━━━━━━━━━━━━━━━━━━━━━━━━━━━━━━━━━━━━━━━━ 3.3/3.3 MB 70.0 MB/s eta 0:00:00\n",
      "  Downloading imageio-2.10.4-py3-none-any.whl (3.3 MB)\n",
      "     ━━━━━━━━━━━━━━━━━━━━━━━━━━━━━━━━━━━━━━━━ 3.3/3.3 MB 83.1 MB/s eta 0:00:00\n",
      "  Downloading imageio-2.10.3-py3-none-any.whl (3.3 MB)\n",
      "     ━━━━━━━━━━━━━━━━━━━━━━━━━━━━━━━━━━━━━━━━ 3.3/3.3 MB 32.1 MB/s eta 0:00:00\n",
      "  Downloading imageio-2.10.2-py3-none-any.whl (3.3 MB)\n",
      "     ━━━━━━━━━━━━━━━━━━━━━━━━━━━━━━━━━━━━━━━━ 3.3/3.3 MB 78.3 MB/s eta 0:00:00\n",
      "  Downloading imageio-2.10.1-py3-none-any.whl (3.3 MB)\n",
      "     ━━━━━━━━━━━━━━━━━━━━━━━━━━━━━━━━━━━━━━━━ 3.3/3.3 MB 78.0 MB/s eta 0:00:00\n",
      "  Downloading imageio-2.9.0-py3-none-any.whl (3.3 MB)\n",
      "     ━━━━━━━━━━━━━━━━━━━━━━━━━━━━━━━━━━━━━━━━ 3.3/3.3 MB 68.6 MB/s eta 0:00:00\n",
      "Collecting importlib-metadata>=4.4\n",
      "  Downloading importlib_metadata-6.7.0-py3-none-any.whl (22 kB)\n",
      "Collecting cycler>=0.10\n",
      "  Downloading cycler-0.11.0-py3-none-any.whl (6.4 kB)\n",
      "Collecting fonttools>=4.22.0\n",
      "  Downloading fonttools-4.38.0-py3-none-any.whl (965 kB)\n",
      "     ━━━━━━━━━━━━━━━━━━━━━━━━━━━━━━━━━━━━━━━━ 965.4/965.4 kB 53.0 MB/s eta 0:00:00\n",
      "Collecting kiwisolver>=1.0.1\n",
      "  Downloading kiwisolver-1.4.5-cp37-cp37m-manylinux_2_5_x86_64.manylinux1_x86_64.whl (1.1 MB)\n",
      "     ━━━━━━━━━━━━━━━━━━━━━━━━━━━━━━━━━━━━━━━━ 1.1/1.1 MB 48.3 MB/s eta 0:00:00\n",
      "Requirement already satisfied: packaging>=20.0 in /usr/local/envs/retfound/lib/python3.7/site-packages (from matplotlib!=3.0.0,>=2.0.0->scikit-image==0.17.2->-r requirement.txt (line 11)) (24.0)\n",
      "Collecting pyparsing>=2.2.1\n",
      "  Downloading pyparsing-3.1.4-py3-none-any.whl (104 kB)\n",
      "     ━━━━━━━━━━━━━━━━━━━━━━━━━━━━━━━━━━━━━━━━ 104.1/104.1 kB 11.3 MB/s eta 0:00:00\n",
      "Collecting networkx>=2.0\n",
      "  Downloading https://download.pytorch.org/whl/networkx-3.0-py3-none-any.whl (2.0 MB)\n",
      "     ━━━━━━━━━━━━━━━━━━━━━━━━━━━━━━━━━━━━━━━━ 2.0/2.0 MB 52.0 MB/s eta 0:00:00\n",
      "  Downloading networkx-2.6.3-py3-none-any.whl (1.9 MB)\n",
      "     ━━━━━━━━━━━━━━━━━━━━━━━━━━━━━━━━━━━━━━━━ 1.9/1.9 MB 83.5 MB/s eta 0:00:00\n",
      "Collecting idna<4,>=2.5\n",
      "  Downloading idna-3.10-py3-none-any.whl (70 kB)\n",
      "     ━━━━━━━━━━━━━━━━━━━━━━━━━━━━━━━━━━━━━━━━ 70.4/70.4 kB 8.8 MB/s eta 0:00:00\n",
      "Collecting urllib3<3,>=1.21.1\n",
      "  Downloading urllib3-2.0.7-py3-none-any.whl (124 kB)\n",
      "     ━━━━━━━━━━━━━━━━━━━━━━━━━━━━━━━━━━━━━━━━ 124.2/124.2 kB 17.0 MB/s eta 0:00:00\n",
      "Collecting charset-normalizer<4,>=2\n",
      "  Downloading charset_normalizer-3.4.0-cp37-cp37m-manylinux_2_17_x86_64.manylinux2014_x86_64.whl (138 kB)\n",
      "     ━━━━━━━━━━━━━━━━━━━━━━━━━━━━━━━━━━━━━━━━ 138.3/138.3 kB 18.4 MB/s eta 0:00:00\n",
      "Requirement already satisfied: certifi>=2017.4.17 in /usr/local/envs/retfound/lib/python3.7/site-packages (from requests<3,>=2.21.0->tensorboard==2.6.0->-r requirement.txt (line 14)) (2024.8.30)\n",
      "Collecting MarkupSafe>=2.1.1\n",
      "  Downloading MarkupSafe-2.1.5-cp37-cp37m-manylinux_2_17_x86_64.manylinux2014_x86_64.whl (25 kB)\n",
      "Collecting typing-extensions\n",
      "  Downloading https://download.pytorch.org/whl/typing_extensions-4.8.0-py3-none-any.whl (31 kB)\n",
      "  Downloading typing_extensions-4.7.1-py3-none-any.whl (33 kB)\n",
      "Collecting zipp>=0.5\n",
      "  Downloading zipp-3.15.0-py3-none-any.whl (6.8 kB)\n",
      "Collecting pyasn1<0.6.0,>=0.4.6\n",
      "  Downloading pyasn1-0.5.1-py2.py3-none-any.whl (84 kB)\n",
      "     ━━━━━━━━━━━━━━━━━━━━━━━━━━━━━━━━━━━━━━━━ 84.9/84.9 kB 10.5 MB/s eta 0:00:00\n",
      "Collecting oauthlib>=3.0.0\n",
      "  Downloading oauthlib-3.2.2-py3-none-any.whl (151 kB)\n",
      "     ━━━━━━━━━━━━━━━━━━━━━━━━━━━━━━━━━━━━━━━━ 151.7/151.7 kB 12.3 MB/s eta 0:00:00\n",
      "Installing collected packages: tensorboard-plugin-wit, pytz, zipp, urllib3, typing-extensions, tqdm, threadpoolctl, tensorboard-data-server, pyparsing, pydicom, pyasn1, protobuf, Pillow, oauthlib, numpy, networkx, MarkupSafe, joblib, idna, grpcio, fonttools, cycler, charset-normalizer, cachetools, art, absl-py, werkzeug, torch, tifffile, scipy, rsa, requests, PyWavelets, pycm, pyasn1-modules, pandas, opencv-python, kiwisolver, importlib-metadata, imageio, torchvision, torchaudio, scikit-learn, requests-oauthlib, matplotlib, markdown, google-auth, timm, scikit-image, google-auth-oauthlib, tensorboard\n",
      "Successfully installed MarkupSafe-2.1.5 Pillow-8.3.1 PyWavelets-1.3.0 absl-py-2.1.0 art-6.4 cachetools-4.2.4 charset-normalizer-3.4.0 cycler-0.11.0 fonttools-4.38.0 google-auth-1.35.0 google-auth-oauthlib-0.4.6 grpcio-1.62.3 idna-3.10 imageio-2.9.0 importlib-metadata-6.7.0 joblib-1.3.2 kiwisolver-1.4.5 markdown-3.4.4 matplotlib-3.5.3 networkx-2.6.3 numpy-1.21.6 oauthlib-3.2.2 opencv-python-4.5.3.56 pandas-0.25.3 protobuf-3.17.3 pyasn1-0.5.1 pyasn1-modules-0.3.0 pycm-3.2 pydicom-2.3.0 pyparsing-3.1.4 pytz-2024.2 requests-2.31.0 requests-oauthlib-2.0.0 rsa-4.9 scikit-image-0.17.2 scikit-learn-0.24.2 scipy-1.5.4 tensorboard-2.6.0 tensorboard-data-server-0.6.1 tensorboard-plugin-wit-1.8.0 threadpoolctl-3.1.0 tifffile-2021.11.2 timm-0.3.2 torch-1.8.1+cu111 torchaudio-0.8.1 torchvision-0.9.1+cu111 tqdm-4.62.1 typing-extensions-4.7.1 urllib3-2.0.7 werkzeug-2.2.3 zipp-3.15.0\n",
      "Installed kernelspec retfound in /root/.local/share/jupyter/kernels/retfound\n"
     ]
    }
   ],
   "source": [
    "# 5. 環境をアクティブ化してパッケージをインストール\n",
    "%%bash\n",
    "source /usr/local/etc/profile.d/conda.sh\n",
    "conda activate retfound\n",
    "python --version\n",
    "\n",
    "pip install ipykernel\n",
    "pip install -r requirement.txt\n",
    "\n",
    "python -m ipykernel install --user --name retfound --display-name \"Python (retfound)\"\n"
   ]
  },
  {
   "cell_type": "code",
   "execution_count": 9,
   "id": "ZmcGg5KIFtAR",
   "metadata": {
    "colab": {
     "base_uri": "https://localhost:8080/"
    },
    "executionInfo": {
     "elapsed": 12633,
     "status": "ok",
     "timestamp": 1733718875828,
     "user": {
      "displayName": "さのけい",
      "userId": "14549312270142177884"
     },
     "user_tz": -540
    },
    "id": "ZmcGg5KIFtAR",
    "outputId": "cc94b54f-eb00-4030-87a9-9691c2e5d456"
   },
   "outputs": [
    {
     "name": "stdout",
     "output_type": "stream",
     "text": [
      "2.5.1+cu121\n",
      "1.0.12\n"
     ]
    }
   ],
   "source": [
    "import torch\n",
    "import timm\n",
    "\n",
    "# バージョン確認\n",
    "print(torch.__version__)\n",
    "print(timm.__version__)"
   ]
  },
  {
   "cell_type": "code",
   "execution_count": 10,
   "id": "X9mH9NtgFtD4",
   "metadata": {
    "colab": {
     "base_uri": "https://localhost:8080/"
    },
    "executionInfo": {
     "elapsed": 1836,
     "status": "ok",
     "timestamp": 1733719004942,
     "user": {
      "displayName": "さのけい",
      "userId": "14549312270142177884"
     },
     "user_tz": -540
    },
    "id": "X9mH9NtgFtD4",
    "outputId": "f303e40d-82a3-4f5a-835d-da398088ce4a"
   },
   "outputs": [
    {
     "name": "stdout",
     "output_type": "stream",
     "text": [
      "2.5.1+cu121\n",
      "1.0.12\n"
     ]
    }
   ],
   "source": [
    "import os\n",
    "os.system(\"conda activate retfound\") # pythonコードからconda コマンドは使えないので、os.systemで実行する\n",
    "import torch\n",
    "import timm\n",
    "\n",
    "# バージョン確認\n",
    "print(torch.__version__)\n",
    "print(timm.__version__)"
   ]
  },
  {
   "cell_type": "code",
   "execution_count": null,
   "id": "58TsJuE1FtH6",
   "metadata": {
    "id": "58TsJuE1FtH6"
   },
   "outputs": [],
   "source": []
  },
  {
   "cell_type": "code",
   "execution_count": null,
   "id": "GZ2D1ld8FtLv",
   "metadata": {
    "id": "GZ2D1ld8FtLv"
   },
   "outputs": [],
   "source": []
  },
  {
   "cell_type": "code",
   "execution_count": null,
   "id": "cHDi5JdsFtP1",
   "metadata": {
    "id": "cHDi5JdsFtP1"
   },
   "outputs": [],
   "source": []
  },
  {
   "cell_type": "code",
   "execution_count": 7,
   "id": "Mg4gQtOE4ExL",
   "metadata": {
    "collapsed": true,
    "executionInfo": {
     "elapsed": 258,
     "status": "ok",
     "timestamp": 1733717761125,
     "user": {
      "displayName": "さのけい",
      "userId": "14549312270142177884"
     },
     "user_tz": -540
    },
    "id": "Mg4gQtOE4ExL"
   },
   "outputs": [],
   "source": [
    "# %%shell\n",
    "# MINICONDA_INSTALLER_SCRIPT=Miniconda3-py37_4.11.0-Linux-x86_64.sh\n",
    "# MINICONDA_PREFIX=/usr/local\n",
    "# wget https://repo.continuum.io/miniconda/$MINICONDA_INSTALLER_SCRIPT\n",
    "# chmod +x $MINICONDA_INSTALLER_SCRIPT\n",
    "# ./$MINICONDA_INSTALLER_SCRIPT -b -f -p $MINICONDA_PREFIX"
   ]
  },
  {
   "cell_type": "code",
   "execution_count": 6,
   "id": "nXUmcEXH4Eqx",
   "metadata": {
    "collapsed": true,
    "executionInfo": {
     "elapsed": 299,
     "status": "ok",
     "timestamp": 1733708197126,
     "user": {
      "displayName": "さのけい",
      "userId": "14549312270142177884"
     },
     "user_tz": -540
    },
    "id": "nXUmcEXH4Eqx"
   },
   "outputs": [],
   "source": [
    "# %%shell\n",
    "# eval \"$(conda shell.bash hook)\" # copy conda command to shell\n",
    "# source /usr/local/etc/profile.d/conda.sh\n",
    "# conda init\n",
    "# conda create -n retfound python=3.7.5 -y\n",
    "# conda activate retfound\n",
    "# python --version\n",
    "# pip install ipykernel\n",
    "# python -m ipykernel install --user"
   ]
  },
  {
   "cell_type": "code",
   "execution_count": 6,
   "id": "jRj-9GVL4Ek6",
   "metadata": {
    "collapsed": true,
    "executionInfo": {
     "elapsed": 3,
     "status": "ok",
     "timestamp": 1733717754774,
     "user": {
      "displayName": "さのけい",
      "userId": "14549312270142177884"
     },
     "user_tz": -540
    },
    "id": "jRj-9GVL4Ek6"
   },
   "outputs": [],
   "source": [
    "# %%shell\n",
    "# source activate retfound\n",
    "# pip install --ignore-installed certifi\n",
    "# pip install -r requirement.txt"
   ]
  },
  {
   "cell_type": "markdown",
   "id": "q_dejkbJ84WC",
   "metadata": {
    "id": "q_dejkbJ84WC"
   },
   "source": [
    "Loading params (only first time)"
   ]
  },
  {
   "cell_type": "code",
   "execution_count": null,
   "id": "VTxOqPzO4Edf",
   "metadata": {
    "colab": {
     "base_uri": "https://localhost:8080/"
    },
    "collapsed": true,
    "executionInfo": {
     "elapsed": 56200,
     "status": "ok",
     "timestamp": 1732850138893,
     "user": {
      "displayName": "さのけい",
      "userId": "14549312270142177884"
     },
     "user_tz": -540
    },
    "id": "VTxOqPzO4Edf",
    "outputId": "79691bb8-9c04-4359-f471-256ac26188b6"
   },
   "outputs": [
    {
     "name": "stdout",
     "output_type": "stream",
     "text": [
      "/usr/local/lib/python3.10/dist-packages/gdown/__main__.py:140: FutureWarning: Option `--id` was deprecated in version 4.3.1 and will be removed in 5.0. You don't need to pass it anymore to use a file ID.\n",
      "  warnings.warn(\n",
      "Downloading...\n",
      "From (original): https://drive.google.com/uc?id=1l62zbWUFTlp214SvK6eMwPQZAzcwoeBE\n",
      "From (redirected): https://drive.google.com/uc?id=1l62zbWUFTlp214SvK6eMwPQZAzcwoeBE&confirm=t&uuid=aeb95e04-013d-41e8-a99c-80a13d486668\n",
      "To: /content/drive/MyDrive/git/RETFound_MAE/RETFound_cfp_weights.pth\n",
      "100% 3.95G/3.95G [00:51<00:00, 77.2MB/s]\n"
     ]
    }
   ],
   "source": [
    "# !gdown --id 1l62zbWUFTlp214SvK6eMwPQZAzcwoeBE\n",
    "\n",
    "# %%shell\n",
    "# mv RETFound_cfp_weights.pth params/"
   ]
  },
  {
   "cell_type": "code",
   "execution_count": 13,
   "id": "D_ecbyyTVBs7",
   "metadata": {
    "colab": {
     "base_uri": "https://localhost:8080/"
    },
    "collapsed": true,
    "executionInfo": {
     "elapsed": 1006,
     "status": "ok",
     "timestamp": 1733719059730,
     "user": {
      "displayName": "さのけい",
      "userId": "14549312270142177884"
     },
     "user_tz": -540
    },
    "id": "D_ecbyyTVBs7",
    "outputId": "d973d9ae-b0f7-4a53-8542-2247a21760ee"
   },
   "outputs": [
    {
     "name": "stdout",
     "output_type": "stream",
     "text": [
      "2.5.1+cu121\n",
      "1.0.12\n"
     ]
    }
   ],
   "source": [
    "import os\n",
    "os.system(\"\"\"\n",
    "source activate retfound\n",
    "python -m ipykernel install --user --name retfound --display-name \"Python (retfound)\"\n",
    "\"\"\")\n",
    "\n",
    "import os\n",
    "import torch\n",
    "import numpy as np\n",
    "import pandas as pd\n",
    "import matplotlib.pyplot as plt\n",
    "from PIL import Image\n",
    "\n",
    "import models_vit\n",
    "import timm\n",
    "\n",
    "# torchとtimmのバージョン確認\n",
    "print(torch.__version__)\n",
    "print(timm.__version__)\n"
   ]
  },
  {
   "cell_type": "code",
   "execution_count": 16,
   "id": "4573e6be-935a-4106-8c06-e467552b0e3d",
   "metadata": {
    "executionInfo": {
     "elapsed": 309,
     "status": "ok",
     "timestamp": 1733719440356,
     "user": {
      "displayName": "さのけい",
      "userId": "14549312270142177884"
     },
     "user_tz": -540
    },
    "id": "4573e6be-935a-4106-8c06-e467552b0e3d"
   },
   "outputs": [],
   "source": [
    "\n",
    "imagenet_mean = np.array([0.485, 0.456, 0.406])\n",
    "imagenet_std = np.array([0.229, 0.224, 0.225])\n",
    "\n",
    "\n",
    "def prepare_model(chkpt_dir, arch='vit_large_patch16'):\n",
    "    # build model\n",
    "    model = models_vit.__dict__[arch](\n",
    "        img_size=224,\n",
    "        num_classes=5,\n",
    "        drop_path_rate=0,\n",
    "        global_pool=True,\n",
    "    )\n",
    "    # load model\n",
    "    checkpoint = torch.load(chkpt_dir, map_location='cpu')\n",
    "    msg = model.load_state_dict(checkpoint['model'], strict=False)\n",
    "    # msg = model.load_state_dict(checkpoint['model'])\n",
    "\n",
    "    return model\n",
    "\n",
    "def run_one_image(img, model):\n",
    "\n",
    "    x = torch.tensor(img)\n",
    "    x = x.unsqueeze(dim=0)\n",
    "    x = torch.einsum('nhwc->nchw', x)\n",
    "\n",
    "    x = x.to(device, non_blocking=True)\n",
    "    latent = model.forward_features(x.float())\n",
    "    latent = torch.squeeze(latent)\n",
    "\n",
    "    return latent\n",
    "\n"
   ]
  },
  {
   "cell_type": "markdown",
   "id": "8b7e691d-93d2-439f-91d6-c22716a897b5",
   "metadata": {
    "id": "8b7e691d-93d2-439f-91d6-c22716a897b5"
   },
   "source": [
    "### Load a pre-trained model"
   ]
  },
  {
   "cell_type": "code",
   "execution_count": 17,
   "id": "fd2d7da9-f75c-4b27-a84b-6d1247f73a7d",
   "metadata": {
    "colab": {
     "base_uri": "https://localhost:8080/"
    },
    "executionInfo": {
     "elapsed": 24761,
     "status": "ok",
     "timestamp": 1733719465954,
     "user": {
      "displayName": "さのけい",
      "userId": "14549312270142177884"
     },
     "user_tz": -540
    },
    "id": "fd2d7da9-f75c-4b27-a84b-6d1247f73a7d",
    "outputId": "a6eac89f-a28c-4369-8dfe-8b433cc3f4d8"
   },
   "outputs": [
    {
     "name": "stderr",
     "output_type": "stream",
     "text": [
      "<ipython-input-16-539b7f80b41d>:14: FutureWarning: You are using `torch.load` with `weights_only=False` (the current default value), which uses the default pickle module implicitly. It is possible to construct malicious pickle data which will execute arbitrary code during unpickling (See https://github.com/pytorch/pytorch/blob/main/SECURITY.md#untrusted-models for more details). In a future release, the default value for `weights_only` will be flipped to `True`. This limits the functions that could be executed during unpickling. Arbitrary objects will no longer be allowed to be loaded via this mode unless they are explicitly allowlisted by the user via `torch.serialization.add_safe_globals`. We recommend you start setting `weights_only=True` for any use case where you don't have full control of the loaded file. Please open an issue on GitHub for any issues related to this experimental feature.\n",
      "  checkpoint = torch.load(chkpt_dir, map_location='cpu')\n"
     ]
    },
    {
     "name": "stdout",
     "output_type": "stream",
     "text": [
      "Model loaded.\n"
     ]
    }
   ],
   "source": [
    "# download pre-trained RETFound\n",
    "chkpt_dir = \"params/RETFound_cfp_weights.pth\"\n",
    "model_ = prepare_model(chkpt_dir, 'vit_large_patch16')\n",
    "\n",
    "device = torch.device('cuda')\n",
    "model_.to(device)\n",
    "print('Model loaded.')\n"
   ]
  },
  {
   "cell_type": "markdown",
   "id": "7d15a0a7-c093-439a-9a4d-c37ce0c0eaa6",
   "metadata": {
    "id": "7d15a0a7-c093-439a-9a4d-c37ce0c0eaa6"
   },
   "source": [
    "### Load images and save latent feature"
   ]
  },
  {
   "cell_type": "code",
   "execution_count": null,
   "id": "cAkCVjbukxd_",
   "metadata": {
    "colab": {
     "base_uri": "https://localhost:8080/"
    },
    "executionInfo": {
     "elapsed": 67907,
     "status": "ok",
     "timestamp": 1733410972585,
     "user": {
      "displayName": "さのけい",
      "userId": "14549312270142177884"
     },
     "user_tz": -540
    },
    "id": "cAkCVjbukxd_",
    "outputId": "0314868a-8e45-4300-f627-60079e605b8b"
   },
   "outputs": [
    {
     "name": "stderr",
     "output_type": "stream",
     "text": [
      "100%|██████████| 1000/1000 [00:54<00:00, 18.24it/s]\n"
     ]
    }
   ],
   "source": [
    "from tqdm import tqdm\n",
    "\n",
    "# npyファイルを読み込み\n",
    "data = np.load('datasets/mini_fundus_images.npy')\n",
    "\n",
    "id_list = []\n",
    "laterality_list = []\n",
    "feature_list = []\n",
    "model_.eval()\n",
    "\n",
    "for idx in tqdm(range(len(data))):\n",
    "    id = data['ID'][idx]\n",
    "    laterality = data['laterality'][idx]\n",
    "    img = data['image'][idx]\n",
    "\n",
    "    img = Image.fromarray(np.uint8(data['image'][idx]))\n",
    "    img = img.resize((224, 224))\n",
    "    img = np.array(img) / 255.\n",
    "\n",
    "    assert img.shape == (224, 224, 3)\n",
    "\n",
    "    # normalize by mean and sd\n",
    "    # can use customised mean and sd for your data\n",
    "    img = img - imagenet_mean\n",
    "    img = img / imagenet_std\n",
    "\n",
    "    latent_feature = run_one_image(img, model_)\n",
    "\n",
    "    # リストにデータ追加\n",
    "    id_list.append(id)\n",
    "    laterality_list.append(laterality)\n",
    "    feature_list.append(latent_feature.detach().cpu().numpy())\n"
   ]
  },
  {
   "cell_type": "code",
   "execution_count": null,
   "id": "KDC9rreh_mSH",
   "metadata": {
    "colab": {
     "base_uri": "https://localhost:8080/"
    },
    "executionInfo": {
     "elapsed": 222,
     "status": "ok",
     "timestamp": 1733410977751,
     "user": {
      "displayName": "さのけい",
      "userId": "14549312270142177884"
     },
     "user_tz": -540
    },
    "id": "KDC9rreh_mSH",
    "outputId": "bc0f105b-d831-4302-92aa-215537bc4c79"
   },
   "outputs": [
    {
     "data": {
      "text/plain": [
       "array([-0.07898155, -0.01586455, -0.03622571, ..., -0.12980084,\n",
       "        0.84016883, -0.16708198], dtype=float32)"
      ]
     },
     "execution_count": 25,
     "metadata": {},
     "output_type": "execute_result"
    }
   ],
   "source": [
    "feature_list[0]"
   ]
  },
  {
   "cell_type": "code",
   "execution_count": null,
   "id": "a365ec24-8e29-485e-83b5-5ac1d02945bb",
   "metadata": {
    "id": "a365ec24-8e29-485e-83b5-5ac1d02945bb"
   },
   "outputs": [],
   "source": [
    "# latent_csv = pd.DataFrame({'Name':name_list, 'Latent_feature':feature_list})\n",
    "# latent_csv.to_csv('Feature_latent.csv', index = False, encoding='utf8')\n",
    "\n",
    "# 構造化配列として保存\n",
    "first_image_shape = feature_list[0].shape\n",
    "dtype = [('ID', 'U20'), ('laterality', 'U1'), ('feature', np.float32, first_image_shape)]\n",
    "data = np.zeros(len(id_list), dtype=dtype)\n",
    "\n",
    "data['ID'] = id_list\n",
    "data['laterality'] = laterality_list\n",
    "data['feature'] = feature_list\n",
    "\n",
    "np.save('outputs/fundus_features.npy', data)"
   ]
  },
  {
   "cell_type": "code",
   "execution_count": null,
   "id": "XypUizHpnxfn",
   "metadata": {
    "id": "XypUizHpnxfn"
   },
   "outputs": [],
   "source": []
  },
  {
   "cell_type": "code",
   "execution_count": null,
   "id": "Lkcu1KUtnxo5",
   "metadata": {
    "id": "Lkcu1KUtnxo5"
   },
   "outputs": [],
   "source": []
  },
  {
   "cell_type": "code",
   "execution_count": null,
   "id": "EcPZ9c52nxvu",
   "metadata": {
    "id": "EcPZ9c52nxvu"
   },
   "outputs": [],
   "source": []
  }
 ],
 "metadata": {
  "accelerator": "GPU",
  "colab": {
   "gpuType": "T4",
   "provenance": []
  },
  "environment": {
   "kernel": "python3",
   "name": "common-cu110.m91",
   "type": "gcloud",
   "uri": "gcr.io/deeplearning-platform-release/base-cu110:m91"
  },
  "kernelspec": {
   "display_name": "retfound",
   "language": "python",
   "name": "python3"
  },
  "language_info": {
   "codemirror_mode": {
    "name": "ipython",
    "version": 3
   },
   "file_extension": ".py",
   "mimetype": "text/x-python",
   "name": "python",
   "nbconvert_exporter": "python",
   "pygments_lexer": "ipython3",
   "version": "3.7.5"
  }
 },
 "nbformat": 4,
 "nbformat_minor": 5
}
